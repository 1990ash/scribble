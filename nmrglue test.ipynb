{
 "cells": [
  {
   "cell_type": "code",
   "execution_count": 38,
   "metadata": {
    "scrolled": true
   },
   "outputs": [
    {
     "name": "stdout",
     "output_type": "stream",
     "text": [
      "11992 11805\n",
      "152764416.0\n"
     ]
    },
    {
     "data": {
      "image/png": "[encoded data removed]",
      "text/plain": [
       "<Figure size 432x288 with 1 Axes>"
      ]
     },
     "metadata": {
      "needs_background": "light"
     },
     "output_type": "display_data"
    }
   ],
   "source": [
    "#! /usr/bin/env python\n",
    "# Create a plot of overlayed 2D spectra\n",
    "\n",
    "%matplotlib inline\n",
    "import matplotlib.pyplot as plt\n",
    "import nmrglue as ng\n",
    "import numpy as np\n",
    "\n",
    "fname = \"C:/Users/User/Desktop/NMR/300/MS124-300/2/pdata/1\"\n",
    "dic, data = ng.bruker.read_pdata(fname)\n",
    "\n",
    "udic = ng.bruker.guess_udic(dic, data)\n",
    "uc0 = ng.fileiobase.uc_from_udic(udic)\n",
    "ppm_scale = uc0.ppm_scale()\n",
    "\n",
    "sl=['2.95 ppm','3.1 ppm']\n",
    "\n",
    "sl1=uc0(sl[0])\n",
    "sl2=uc0(sl[1])\n",
    "\n",
    "print(sl1,sl2)\n",
    "\n",
    "print(data[sl1])\n",
    "\n",
    "fig = plt.figure()\n",
    "ax = fig.add_subplot(111)\n",
    "ax.plot(data, 'red' , linewidth =0.5)\n",
    "\n",
    "#ax.set_xlim(4,1)\n",
    "#ax.set_ylim(-5e4,5e10)\n",
    "\n",
    "plt.show()\n",
    "#fig.savefig('proton_1d.png')"
   ]
  },
  {
   "cell_type": "code",
   "execution_count": null,
   "metadata": {},
   "outputs": [],
   "source": []
  }
 ],
 "metadata": {
  "kernelspec": {
   "display_name": "Python 3",
   "language": "python",
   "name": "python3"
  },
  "language_info": {
   "codemirror_mode": {
    "name": "ipython",
    "version": 3
   },
   "file_extension": ".py",
   "mimetype": "text/x-python",
   "name": "python",
   "nbconvert_exporter": "python",
   "pygments_lexer": "ipython3",
   "version": "3.7.4"
  }
 },
 "nbformat": 4,
 "nbformat_minor": 2
}
