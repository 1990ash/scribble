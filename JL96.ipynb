{
 "cells": [
  {
   "cell_type": "code",
   "execution_count": 2,
   "metadata": {
    "scrolled": true
   },
   "outputs": [],
   "source": [
    "def readdata(fn):\n",
    "    name={}\n",
    "    const={}\n",
    "    direct={}\n",
    "    competition={}\n",
    "    data=[]\n",
    "    with open(fn) as f:\n",
    "        for i in range(2):\n",
    "            (key, val) = f.readline().rstrip().split('=')\n",
    "            name[key] = val.split(' ')\n",
    "        for i in range(3):\n",
    "            (key, val) = f.readline().rstrip().split('=')\n",
    "            const[key] = float(val)\n",
    "        for i in range(9):\n",
    "            (key, val) = f.readline().rstrip().split('=')\n",
    "            if key=='Host-direct':\n",
    "                temp=val.split(' ')\n",
    "                direct[key]=[float(x)*1.0e-6 for x in temp]\n",
    "            else:\n",
    "                temp={}\n",
    "                c=val.split(' ')\n",
    "                temp['concentration']=[float(x)*1.0e-6 for x in c]\n",
    "                competition[key]=temp\n",
    "        for  i in range(8):\n",
    "            data.append([float(x) for x in f.readline().rstrip().split('\\t')])\n",
    "\n",
    "    AV_BLANK_COMP = (float(data[0][1])+float(data[1][1]))/2.0\n",
    "\n",
    "    direct['data 0']=[data[j+2][0]-data[2][0] for j in range(6)]    \n",
    "    direct['data 1']=[data[j+2][1]-data[2][1] for j in range(6)]\n",
    "\n",
    "    name1=name['Guest'][:4]\n",
    "    name2=name['Guest'][4:]\n",
    "\n",
    "    for n, i in zip(name1, range(0,8,2)):\n",
    "        competition[n]['data 0']=[0.0]+[x-AV_BLANK_COMP for x in data[i][2:7]]\n",
    "        competition[n]['data 1']=[0.0]+[x-AV_BLANK_COMP for x in data[i+1][2:7]]\n",
    "\n",
    "    for n, i in zip(name2, range(0,8,2)):\n",
    "        competition[n]['data 0']=[0.0]+[x-AV_BLANK_COMP for x in data[i][7:13]]\n",
    "        competition[n]['data 1']=[0.0]+[x-AV_BLANK_COMP for x in data[i+1][7:13]]\n",
    "\n",
    "    return name, const, direct, competition"
   ]
  },
  {
   "cell_type": "code",
   "execution_count": null,
   "metadata": {},
   "outputs": [],
   "source": []
  }
 ],
 "metadata": {
  "kernelspec": {
   "display_name": "Python 3",
   "language": "python",
   "name": "python3"
  },
  "language_info": {
   "codemirror_mode": {
    "name": "ipython",
    "version": 3
   },
   "file_extension": ".py",
   "mimetype": "text/x-python",
   "name": "python",
   "nbconvert_exporter": "python",
   "pygments_lexer": "ipython3",
   "version": "3.7.4"
  }
 },
 "nbformat": 4,
 "nbformat_minor": 2
}
