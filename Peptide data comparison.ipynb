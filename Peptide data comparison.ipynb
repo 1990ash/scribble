{
 "cells": [
  {
   "cell_type": "code",
   "execution_count": 2,
   "metadata": {
    "scrolled": true
   },
   "outputs": [],
   "source": [
    "import pandas as pd\n",
    "\n",
    "fname = r'REC-1793_Methylated Protein and Peptide Reports.xlsx'\n",
    "direc = r\"C:\\Users\\User\\Desktop\\AShaurya_MS124 paper\\data\\\\\"\n",
    "address = direc+fname\n",
    "\n",
    "mono = pd.read_excel(address, sheet_name=\"Monomethyl Peptide Report\", usecols='O')\n",
    "di = pd.read_excel(address, sheet_name=\"Dimethyl Peptide Report\", usecols='O')\n",
    "tri = pd.read_excel(address, sheet_name=\"Trimethyl Peptide Report\", usecols='O')\n",
    "\n",
    "mono2=mono['Peptide sequence'].tolist()\n",
    "di2=di['Peptide sequence'].tolist()\n",
    "tri2=tri['Peptide sequence'].tolist()\n",
    "\n",
    "search='RGG'\n",
    "\n",
    "for each in tri2[0:-1]:\n",
    "    if search in each:\n",
    "        print(each, tri2.index(each))\n",
    "\n",
    "\n",
    "\n"
   ]
  },
  {
   "cell_type": "code",
   "execution_count": null,
   "metadata": {},
   "outputs": [],
   "source": []
  }
 ],
 "metadata": {
  "kernelspec": {
   "display_name": "Python 3",
   "language": "python",
   "name": "python3"
  },
  "language_info": {
   "codemirror_mode": {
    "name": "ipython",
    "version": 3
   },
   "file_extension": ".py",
   "mimetype": "text/x-python",
   "name": "python",
   "nbconvert_exporter": "python",
   "pygments_lexer": "ipython3",
   "version": "3.7.4"
  }
 },
 "nbformat": 4,
 "nbformat_minor": 2
}
