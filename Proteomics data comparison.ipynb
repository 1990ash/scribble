{
 "cells": [
  {
   "cell_type": "code",
   "execution_count": 21,
   "metadata": {},
   "outputs": [
    {
     "name": "stdout",
     "output_type": "stream",
     "text": [
      "EF1A_YEAST 45\n",
      "G2WEZ3_YEASK 9\n",
      "E7NNV4_YEASO 39\n",
      "Q6FWI9_CANGA 33\n",
      "SMI1_ASHGO 64\n",
      "Q756S4_ASHGO 24\n",
      "Q750I5_ASHGO 19\n",
      "G2WDZ1_YEASK 25\n",
      "MYO1_YEAST 29\n",
      "E7M1R3_YEASV 18\n",
      "E7LWQ7_YEASV 38\n",
      "A6ZPZ2_YEAS7 49\n",
      "E7KRT2_YEASL 36\n",
      "C8ZE49_YEAS8 60\n",
      "E7Q0Q0_YEASB 50\n",
      "Q752R1_ASHGO 57\n",
      "EF1A_ASHGO 55\n",
      "A2R3S6_ASPNC 75\n",
      "Q755D6_ASHGO 65\n",
      "GRP78_ASHGO 86\n",
      "E7Q8T1_YEASB 77\n",
      "Q6FW47_CANGA 79\n",
      "B3LID9_YEAS1 85\n",
      "Q75E11_ASHGO 71\n",
      "Q75DF8_ASHGO 93\n",
      "Q6FSV3_CANGA 80\n",
      "Q752C8_ASHGO 87\n"
     ]
    }
   ],
   "source": [
    "import pandas as pd\n",
    "\n",
    "fname = r'Yeast Proteins with methyl modifications  (GluC dig - MS124enriched  REC1793 - See MCG book 2 for details).xlsx'\n",
    "direc = r\"C:\\Users\\User\\Desktop\\AShaurya_MS124 paper\\data\\\\\"\n",
    "address = direc+fname\n",
    "\n",
    "inp = pd.read_excel(address, sheet_name=\"Input\", usecols='B')\n",
    "ret = pd.read_excel(address, sheet_name=\"Retained\", usecols='B')\n",
    "unret = pd.read_excel(address, sheet_name=\"Unretained\", usecols='B')\n",
    "\n",
    "inp2=inp['Accession Number'].tolist()\n",
    "ret2=ret['Accession Number'].tolist()\n",
    "unret2=unret['Accession Number'].tolist()\n",
    "\n",
    "for a in unret2:\n",
    "    for b in inp2:\n",
    "        if a==b:\n",
    "            print(a, inp2.index(a))\n",
    "\n",
    "\n",
    "\n"
   ]
  },
  {
   "cell_type": "code",
   "execution_count": null,
   "metadata": {},
   "outputs": [],
   "source": []
  },
  {
   "cell_type": "code",
   "execution_count": null,
   "metadata": {},
   "outputs": [],
   "source": []
  },
  {
   "cell_type": "code",
   "execution_count": null,
   "metadata": {},
   "outputs": [],
   "source": []
  },
  {
   "cell_type": "code",
   "execution_count": null,
   "metadata": {},
   "outputs": [],
   "source": []
  }
 ],
 "metadata": {
  "kernelspec": {
   "display_name": "Python 3",
   "language": "python",
   "name": "python3"
  },
  "language_info": {
   "codemirror_mode": {
    "name": "ipython",
    "version": 3
   },
   "file_extension": ".py",
   "mimetype": "text/x-python",
   "name": "python",
   "nbconvert_exporter": "python",
   "pygments_lexer": "ipython3",
   "version": "3.7.4"
  }
 },
 "nbformat": 4,
 "nbformat_minor": 2
}
