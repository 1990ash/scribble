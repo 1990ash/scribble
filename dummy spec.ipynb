{
 "cells": [
  {
   "cell_type": "code",
   "execution_count": 2,
   "metadata": {},
   "outputs": [
    {
     "data": {
      "image/png": "[encoded data removed]",
      "text/plain": [
       "<Figure size 144x144 with 1 Axes>"
      ]
     },
     "metadata": {},
     "output_type": "display_data"
    }
   ],
   "source": [
    "from scipy import *\n",
    "import numpy as np\n",
    "%matplotlib inline\n",
    "import matplotlib.pyplot as plt\n",
    "\n",
    "def gau(x1, a, b, c):\n",
    "    B=(x1-b)**2\n",
    "    C=c**2\n",
    "    return a*exp(-B/2*C)\n",
    "\n",
    "def lor(x1, a, b, c):\n",
    "    B=(x1-b)/c\n",
    "    return a/(1+(B**2))\n",
    "\n",
    "fig = plt.figure(figsize=(2,2),constrained_layout=False)\n",
    "ax = fig.add_subplot(111)\n",
    "\n",
    "x=linspace(0, 75, 1000)\n",
    "\n",
    "y1=lor(x, 80, 10, 3.5)\n",
    "y2=lor(x, 60, 10.5, 2)\n",
    "y3=lor(x, 15, 11.2, 0.9)\n",
    "\n",
    "\n",
    "y4=lor(x, 70, 48, 0.5)\n",
    "y5=lor(x, 10, 52, 0.6)\n",
    "\n",
    "y=y1+y2+y3+y4+y5\n",
    "\n",
    "plt.plot(x, y, 'black', linewidth=0.8)\n",
    "\n",
    "x1=linspace(8, 12, 1000)\n",
    "plt.fill(x[:200], y[:200], 'lightcoral')\n",
    "plt.fill(x[500:800], y[500:800], 'lightsteelblue')\n",
    "\n",
    "#ax1.axes.get_xaxis().set_visible(False)\n",
    "ax.axes.get_yaxis().set_visible(False)\n",
    "#ax.set_xlabel('Time', fontsize=10)\n",
    "ax.spines['top'].set_color('white')\n",
    "ax.spines['left'].set_color('white')\n",
    "ax.spines['right'].set_color('white')\n",
    "ax.set_xticks([10,30,50,70])\n",
    "ax.tick_params(axis='x', labelcolor='white')\n",
    "\n",
    "plt.show()\n",
    "#fig.savefig('enrichment dummy', dpi=120, bbox_inches='tight', pad_inches=0)"
   ]
  },
  {
   "cell_type": "code",
   "execution_count": null,
   "metadata": {},
   "outputs": [],
   "source": []
  }
 ],
 "metadata": {
  "kernelspec": {
   "display_name": "Python 3",
   "language": "python",
   "name": "python3"
  },
  "language_info": {
   "codemirror_mode": {
    "name": "ipython",
    "version": 3
   },
   "file_extension": ".py",
   "mimetype": "text/x-python",
   "name": "python",
   "nbconvert_exporter": "python",
   "pygments_lexer": "ipython3",
   "version": "3.7.4"
  }
 },
 "nbformat": 4,
 "nbformat_minor": 2
}
