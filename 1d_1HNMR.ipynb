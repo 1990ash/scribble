{
 "cells": [
  {
   "cell_type": "code",
   "execution_count": 76,
   "metadata": {
    "scrolled": true
   },
   "outputs": [
    {
     "name": "stdout",
     "output_type": "stream",
     "text": [
      "[7.743149365671448, 7.683752467074113, 7.484692590693856, 7.442151568725495, 7.388373295671151, 6.814470829494202, 4.790160312433692, 4.2965239254423295, 4.264417493768095, 4.083016154808668, 4.054120366301856, 3.9698409831569883, 3.8277700229985, 3.798874234491688, 7.499943145739118, 7.446164872684775, 6.808852203951211, 4.754843237592032, 4.874439695578558, 4.8776503387459815, 4.89530887616681, 4.900124840917946, 3.9377345514827535]\n"
     ]
    },
    {
     "data": {
      "image/png": "[encoded data removed]",
      "text/plain": [
       "<Figure size 720x288 with 1 Axes>"
      ]
     },
     "metadata": {
      "needs_background": "light"
     },
     "output_type": "display_data"
    }
   ],
   "source": [
    "#! /usr/bin/env python\n",
    "# Create a plot of overlayed 2D spectra\n",
    "\n",
    "%matplotlib inline\n",
    "import matplotlib.pyplot as plt\n",
    "import matplotlib.patches as patches\n",
    "import nmrglue as ng\n",
    "import numpy as np\n",
    "\n",
    "def draw_inset(co_or, z_x, z_y):\n",
    "    ax_temp = fig.add_axes(co_or)\n",
    "    #ax_temp.spines['top'].set_color('white')\n",
    "    #ax_temp.spines['left'].set_color('white')\n",
    "    #ax_temp.spines['right'].set_color('white')\n",
    "    ax_temp.axes.get_yaxis().set_visible(False)\n",
    "    ax_temp.plot(ppm_scale, data, 'red' , linewidth =0.6)\n",
    "    ax_temp.set_xlim(z_x[0], z_x[1])\n",
    "    ax_temp.set_ylim(z_y[0], z_y[1])\n",
    "    width=z_x[0]-z_x[1]\n",
    "    height=0.8*z_y[1]\n",
    "    rect = patches.Rectangle((z_x[1],z_y[0]), width, height, linewidth=1, edgecolor='k', facecolor='none', zorder=10)\n",
    "    line1 = patches.ConnectionPatch((z_x[1],z_y[0]), (z_x[1],z_y[0]+height), coordsA='data', coordsB='data',\n",
    "                                    axesA=ax_temp, axesB=ax1, color=\"black\")\n",
    "    line2 = patches.ConnectionPatch((z_x[0],z_y[0]), (z_x[0],z_y[0]+height), coordsA='data', coordsB='data',\n",
    "                                    axesA=ax_temp, axesB=ax1, color=\"black\")\n",
    "    ax1.add_patch(rect)\n",
    "    ax1.add_artist(line1)\n",
    "    ax1.add_artist(line2)\n",
    "    return ax_temp\n",
    "\n",
    "def draw_integration_ticks(axtemp, x, y):\n",
    "    x1,x2= x\n",
    "    y1,y2= y\n",
    "    axtemp.plot((x1,x1),(y1,y2),'k')\n",
    "    axtemp.plot((x1,x2),(y2,y2),'k')\n",
    "    axtemp.plot((x2,x2),(y1,y2),'k')\n",
    "\n",
    "fname = \"C:/Users/User/Desktop/NMR/500/AS-7-96-500/15/pdata/1\"\n",
    "dic, data = ng.bruker.read_pdata(fname)\n",
    "\n",
    "udic = ng.bruker.guess_udic(dic, data)\n",
    "uc0 = ng.fileiobase.uc_from_udic(udic)\n",
    "ppm_scale = uc0.ppm_scale()\n",
    "\n",
    "limit_x1=[4.4,3.6]\n",
    "limit_y1=[-1.5e9,1e10]\n",
    "#limit_y2=[-1e9,1e10]\n",
    "label_x = '$^{1}H$'+' '+'$(\\delta$'+' '+'/ppm)'\n",
    "\n",
    "fig = plt.figure(figsize=(10,4),constrained_layout=False)\n",
    "\n",
    "ax1 = fig.add_subplot(111)\n",
    "ax1.plot(ppm_scale, data, 'red' , linewidth =0.6, zorder=1)\n",
    "ax1.set_xlim(limit_x1[0], limit_x1[1])\n",
    "ax1.set_ylim(limit_y1[0], limit_y1[1])\n",
    "\n",
    "# Decorate\n",
    "# Remove spines or the box around the plot (but leave the x-axis line)\n",
    "ax1.spines['top'].set_color('white')\n",
    "ax1.spines['left'].set_color('white')\n",
    "ax1.spines['right'].set_color('white')\n",
    "ax1.axes.get_yaxis().set_visible(False) # Remove y-axis\n",
    "ax1.set_xlabel(label_x, fontsize=12) # Label the x-axis\n",
    "\n",
    "peak_table = ng.peakpick.pick(data, thres, table=False, algorithm='downward')\n",
    "peaks=[]\n",
    "for each in peak_table[0]:\n",
    "    peaks.append(ppm_scale[each])\n",
    "print(peaks)\n",
    "\n",
    "peaks_ax1 = [4.2965239254423295, 4.264417493768095, \n",
    "             4.083016154808668, 4.054120366301856, \n",
    "             3.9698409831569883, 3.9377345514827535,\n",
    "             3.8277700229985, 3.798874234491688]\n",
    "int_ax1 = [2.0000,2.0745,1.9583,1.9784]\n",
    "label_integration_ax1 = [4.29,4.08,3.97,3.82]\n",
    "int_ticks= [(4.346,4.215),(4.1303,4.0145),(4.012,3.8795),(3.8795,3.7537)]\n",
    "\n",
    "for p in peaks_ax1:\n",
    "    ax1.text(p+0.01, 8e9, \"{:0=3.2f}\".format(p), rotation=90, fontsize = 10)\n",
    "\n",
    "for i, l in zip(int_ax1, label_integration_ax1):\n",
    "    ax1.text(l, -8e8, \"{:0=3.2f}\".format(i), fontsize = 10)\n",
    "\n",
    "for each in int_ticks:\n",
    "    y_limit = (1e8,-1e8)\n",
    "    draw_integration_ticks(ax1, each, y_limit)\n",
    "\n",
    "#text = 'HDO at 4.79 ppm'\n",
    "#ax1.text(5.2, limit_y[1]-750000, text)\n",
    "\n",
    "plt.show()\n",
    "fig.savefig('MS124_1H_zoom_aliphatic.png', dpi=120, bbox_inches='tight', pad_inches=0)"
   ]
  },
  {
   "cell_type": "code",
   "execution_count": null,
   "metadata": {},
   "outputs": [],
   "source": []
  },
  {
   "cell_type": "code",
   "execution_count": null,
   "metadata": {},
   "outputs": [],
   "source": []
  },
  {
   "cell_type": "code",
   "execution_count": null,
   "metadata": {},
   "outputs": [],
   "source": []
  }
 ],
 "metadata": {
  "kernelspec": {
   "display_name": "Python 3",
   "language": "python",
   "name": "python3"
  },
  "language_info": {
   "codemirror_mode": {
    "name": "ipython",
    "version": 3
   },
   "file_extension": ".py",
   "mimetype": "text/x-python",
   "name": "python",
   "nbconvert_exporter": "python",
   "pygments_lexer": "ipython3",
   "version": "3.7.4"
  }
 },
 "nbformat": 4,
 "nbformat_minor": 2
}
